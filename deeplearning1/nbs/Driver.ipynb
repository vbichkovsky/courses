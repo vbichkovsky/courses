{
 "cells": [
  {
   "cell_type": "markdown",
   "metadata": {},
   "source": [
    "## create directory structure"
   ]
  },
  {
   "cell_type": "code",
   "execution_count": 1,
   "metadata": {},
   "outputs": [
    {
     "data": {
      "text/plain": [
       "u'/home/floorplanner/courses/deeplearning1/nbs'"
      ]
     },
     "execution_count": 1,
     "metadata": {},
     "output_type": "execute_result"
    }
   ],
   "source": [
    "pwd"
   ]
  },
  {
   "cell_type": "code",
   "execution_count": 4,
   "metadata": {},
   "outputs": [
    {
     "name": "stdout",
     "output_type": "stream",
     "text": [
      "data/driver/train\n",
      "├── c0\n",
      "├── c1\n",
      "├── c2\n",
      "├── c3\n",
      "├── c4\n",
      "├── c5\n",
      "├── c6\n",
      "├── c7\n",
      "├── c8\n",
      "└── c9\n",
      "\n",
      "10 directories\n"
     ]
    }
   ],
   "source": [
    "%%bash\n",
    "tree -d data/driver/train"
   ]
  },
  {
   "cell_type": "markdown",
   "metadata": {},
   "source": [
    "make *valid* directory with same subdirs as in *train*"
   ]
  },
  {
   "cell_type": "code",
   "execution_count": 5,
   "metadata": {},
   "outputs": [
    {
     "name": "stdout",
     "output_type": "stream",
     "text": [
      "/home/floorplanner/courses/deeplearning1/nbs\n"
     ]
    }
   ],
   "source": [
    "%%bash\n",
    "cd data/driver/train\n",
    "find . -type d | xargs -I z mkdir -p ../valid/z\n",
    "cd -"
   ]
  },
  {
   "cell_type": "code",
   "execution_count": 6,
   "metadata": {},
   "outputs": [
    {
     "name": "stdout",
     "output_type": "stream",
     "text": [
      "data/driver\n",
      "├── test\n",
      "├── train\n",
      "│   ├── c0\n",
      "│   ├── c1\n",
      "│   ├── c2\n",
      "│   ├── c3\n",
      "│   ├── c4\n",
      "│   ├── c5\n",
      "│   ├── c6\n",
      "│   ├── c7\n",
      "│   ├── c8\n",
      "│   └── c9\n",
      "└── valid\n",
      "    ├── c0\n",
      "    ├── c1\n",
      "    ├── c2\n",
      "    ├── c3\n",
      "    ├── c4\n",
      "    ├── c5\n",
      "    ├── c6\n",
      "    ├── c7\n",
      "    ├── c8\n",
      "    └── c9\n",
      "\n",
      "23 directories\n"
     ]
    }
   ],
   "source": [
    "%%bash\n",
    "tree -d data/driver"
   ]
  },
  {
   "cell_type": "markdown",
   "metadata": {},
   "source": [
    "make *sample* directory with same structure as in current dir, containing *train* and *valid*"
   ]
  },
  {
   "cell_type": "code",
   "execution_count": 7,
   "metadata": {},
   "outputs": [
    {
     "name": "stdout",
     "output_type": "stream",
     "text": [
      "/home/floorplanner/courses/deeplearning1/nbs\n",
      "data/driver\n",
      "├── sample\n",
      "│   ├── test\n",
      "│   ├── train\n",
      "│   │   ├── c0\n",
      "│   │   ├── c1\n",
      "│   │   ├── c2\n",
      "│   │   ├── c3\n",
      "│   │   ├── c4\n",
      "│   │   ├── c5\n",
      "│   │   ├── c6\n",
      "│   │   ├── c7\n",
      "│   │   ├── c8\n",
      "│   │   └── c9\n",
      "│   └── valid\n",
      "│       ├── c0\n",
      "│       ├── c1\n",
      "│       ├── c2\n",
      "│       ├── c3\n",
      "│       ├── c4\n",
      "│       ├── c5\n",
      "│       ├── c6\n",
      "│       ├── c7\n",
      "│       ├── c8\n",
      "│       └── c9\n",
      "├── test\n",
      "├── train\n",
      "│   ├── c0\n",
      "│   ├── c1\n",
      "│   ├── c2\n",
      "│   ├── c3\n",
      "│   ├── c4\n",
      "│   ├── c5\n",
      "│   ├── c6\n",
      "│   ├── c7\n",
      "│   ├── c8\n",
      "│   └── c9\n",
      "└── valid\n",
      "    ├── c0\n",
      "    ├── c1\n",
      "    ├── c2\n",
      "    ├── c3\n",
      "    ├── c4\n",
      "    ├── c5\n",
      "    ├── c6\n",
      "    ├── c7\n",
      "    ├── c8\n",
      "    └── c9\n",
      "\n",
      "47 directories\n"
     ]
    }
   ],
   "source": [
    "%%bash\n",
    "cd data/driver\n",
    "find . -type d | xargs -I z mkdir -p sample/z\n",
    "cd -\n",
    "tree -d data/driver"
   ]
  },
  {
   "cell_type": "markdown",
   "metadata": {},
   "source": [
    "## copy/move the files"
   ]
  },
  {
   "cell_type": "code",
   "execution_count": 32,
   "metadata": {},
   "outputs": [],
   "source": [
    "import os # os.rename\n",
    "from glob import glob\n",
    "from shutil import copyfile\n",
    "import numpy as np # np.random.permutation"
   ]
  },
  {
   "cell_type": "markdown",
   "metadata": {},
   "source": [
    "For each subdirectory in *train*, randomly move 10% of files into same subdirectory of *valid*"
   ]
  },
  {
   "cell_type": "code",
   "execution_count": 30,
   "metadata": {},
   "outputs": [
    {
     "name": "stdout",
     "output_type": "stream",
     "text": [
      "/home/floorplanner/courses/deeplearning1/nbs/data/driver\n",
      "/home/floorplanner/courses/deeplearning1/nbs\n"
     ]
    }
   ],
   "source": [
    "%cd data/driver\n",
    "for subdir in glob('train/*'):\n",
    "    files = glob(subdir + '/*')\n",
    "    subset = np.random.permutation(files)[:len(files)/10]\n",
    "    [os.rename(path, path.replace('train', 'valid', 1)) for path in subset]\n",
    "%cd -"
   ]
  },
  {
   "cell_type": "code",
   "execution_count": 33,
   "metadata": {},
   "outputs": [
    {
     "name": "stdout",
     "output_type": "stream",
     "text": [
      "232\n"
     ]
    }
   ],
   "source": [
    "%%bash\n",
    "ls -l data/driver/valid/c5|wc -l"
   ]
  },
  {
   "cell_type": "markdown",
   "metadata": {},
   "source": [
    "For each subdirectory in *train*, *valid*, copy 10% of files into same subdir of *sample*."
   ]
  },
  {
   "cell_type": "code",
   "execution_count": 42,
   "metadata": {},
   "outputs": [
    {
     "name": "stdout",
     "output_type": "stream",
     "text": [
      "/home/floorplanner/courses/deeplearning1/nbs/data/driver\n",
      "/home/floorplanner/courses/deeplearning1/nbs\n"
     ]
    }
   ],
   "source": [
    "%cd data/driver\n",
    "for subdir in glob('train/*'):\n",
    "    files = glob(subdir + '/*')\n",
    "    subset = np.random.permutation(files)[:len(files)/10]\n",
    "    [copyfile(src, 'sample/' + src) for src in subset]\n",
    "for subdir in glob('valid/*'):\n",
    "    files = glob(subdir + '/*')\n",
    "    subset = np.random.permutation(files)[:len(files)/10]\n",
    "    [copyfile(src, 'sample/' + src) for src in subset]    \n",
    "%cd -"
   ]
  },
  {
   "cell_type": "code",
   "execution_count": 44,
   "metadata": {},
   "outputs": [
    {
     "name": "stdout",
     "output_type": "stream",
     "text": [
      "2237\n"
     ]
    }
   ],
   "source": [
    "%%bash\n",
    "find data/driver/sample -type f|wc -l"
   ]
  },
  {
   "cell_type": "markdown",
   "metadata": {},
   "source": [
    "## set up the network"
   ]
  },
  {
   "cell_type": "code",
   "execution_count": 47,
   "metadata": {},
   "outputs": [],
   "source": [
    "from vgg16 import Vgg16\n",
    "vgg = Vgg16()"
   ]
  },
  {
   "cell_type": "markdown",
   "metadata": {},
   "source": [
    "## check if everything is fine with 'sample'"
   ]
  },
  {
   "cell_type": "code",
   "execution_count": null,
   "metadata": {},
   "outputs": [
    {
     "name": "stdout",
     "output_type": "stream",
     "text": [
      "Found 2016 images belonging to 10 classes.\n",
      "Found 221 images belonging to 10 classes.\n",
      "Epoch 1/1\n",
      " 320/2016 [===>..........................] - ETA: 25s - loss: 4.2985 - acc: 0.1156"
     ]
    }
   ],
   "source": [
    "tb = vgg.get_batches('data/driver/sample/train',batch_size=64)\n",
    "vb = vgg.get_batches('data/driver/sample/valid',batch_size=64)\n",
    "vgg.finetune(tb)\n",
    "vgg.fit(tb, vb, nb_epoch=1)"
   ]
  },
  {
   "cell_type": "markdown",
   "metadata": {},
   "source": [
    "## train the net on real data"
   ]
  },
  {
   "cell_type": "markdown",
   "metadata": {},
   "source": [
    "## evaluate results, recognize 'test'"
   ]
  },
  {
   "cell_type": "code",
   "execution_count": null,
   "metadata": {
    "collapsed": true
   },
   "outputs": [],
   "source": []
  }
 ],
 "metadata": {
  "anaconda-cloud": {},
  "kernelspec": {
   "display_name": "Python [conda root]",
   "language": "python",
   "name": "conda-root-py"
  },
  "language_info": {
   "codemirror_mode": {
    "name": "ipython",
    "version": 2
   },
   "file_extension": ".py",
   "mimetype": "text/x-python",
   "name": "python",
   "nbconvert_exporter": "python",
   "pygments_lexer": "ipython2",
   "version": "2.7.13"
  }
 },
 "nbformat": 4,
 "nbformat_minor": 1
}
